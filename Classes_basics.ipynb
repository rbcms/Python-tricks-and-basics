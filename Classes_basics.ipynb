{
 "cells": [
  {
   "cell_type": "markdown",
   "metadata": {},
   "source": [
    "# Classes"
   ]
  },
  {
   "cell_type": "markdown",
   "metadata": {},
   "source": [
    "#### Clase >> \n",
    "Representación abstracta de un concepto.(perro, gato.) Se componen de >> métodos y atributos.\n",
    "#### Objeto >> \n",
    "Cada una de las instancias de una clase.\n",
    "#### Parámetro Self >> \n",
    "Esta variable es una referencia al objeto de la clase que ha llamado al método\n",
    "\n",
    "Los clases porporcionan una forma de empaquetar datos y funcionalidad juntos.\n",
    "Cuando creamos una clase, creamos un nuevo tipo de opbjeto, quenos permite crear nuecas instancias de ese tipo.\n",
    "Cada instancia de clase, puede tener atributos adjuntos para mantener su estado.\n",
    "Las instancias de clase también pueden tener métodos (definidos por su clase) para modificar su estado. "
   ]
  },
  {
   "cell_type": "markdown",
   "metadata": {},
   "source": [
    "Las variables definidas dentro de una clase,pero no dentro de un método, \n",
    "pueden ser >> variables estáticas o de clase.\n",
    "\n",
    "#### Variable estática.\n",
    "\n",
    "Es aquella ubicada estáticamente (es decir, la memoria se ha reservado en tiempo de\n",
    "compilación) y cuyo tiempo de vida se extiende durante toda la ejecución del programa.\n",
    "\n",
    "#### Variable de clase.\n",
    "Estas variables son compartidas por todos los objetos de la clase."
   ]
  },
  {
   "cell_type": "markdown",
   "metadata": {},
   "source": [
    "Como definimos una clase:\n",
    "\n",
    "\n",
    "    "
   ]
  },
  {
   "cell_type": "markdown",
   "metadata": {},
   "source": [
    "## Ejemplo"
   ]
  },
  {
   "cell_type": "code",
   "execution_count": null,
   "metadata": {
    "collapsed": true
   },
   "outputs": [],
   "source": []
  },
  {
   "cell_type": "code",
   "execution_count": null,
   "metadata": {
    "collapsed": true
   },
   "outputs": [],
   "source": [
    "class Clase:\n",
    "    <declaración-1>\n",
    "    .\n",
    "    .\n",
    "    .\n",
    "    <declaración-N>"
   ]
  },
  {
   "cell_type": "code",
   "execution_count": null,
   "metadata": {
    "collapsed": true
   },
   "outputs": [],
   "source": [
    "# Creamos una clase, ojo el nombre va en letra Capital.\n",
    "\n",
    "class Perro(object):\n",
    "\n",
    "    def __init__(self, nombre, raza, edad):\n",
    "    self.nombre = nombre\n",
    "    self.raza = raza\n",
    "    self.edad = edad\n",
    "\n",
    "    def ladra(self):\n",
    "    print self.nombre, \"dice ’¡Wooof!’\"\n",
    "\n",
    "    mascota = Perro(\"Lassie\", \"Collie\", 18)\n",
    "    mascota.ladra()\n"
   ]
  },
  {
   "cell_type": "code",
   "execution_count": null,
   "metadata": {
    "collapsed": true
   },
   "outputs": [],
   "source": []
  },
  {
   "cell_type": "markdown",
   "metadata": {},
   "source": [
    "La función super() nos devuelve un objeto proxy\n",
    "que delega llamadas a una superclase.\n",
    "En su uso más básico y común, nos permite llamar a un\n",
    "método definido en la clase base (es decir, de la que hemos heredado) \n",
    "sin tener que nombrarlas explícitamente, haciendo nuestro código más sencillo y mantenible.\n"
   ]
  },
  {
   "cell_type": "code",
   "execution_count": null,
   "metadata": {
    "collapsed": true
   },
   "outputs": [],
   "source": [
    "class ListaLogger(list):\n",
    "    def append(self, x):\n",
    "    print \"A~nadiendo\", x, \"a la lista (¡ahora s´ı!)\"\n",
    "    super(ListaLogger, self).append(x)\n",
    "\n",
    "    numeros = ListaLogger()\n",
    "    numeros.append(7)\n",
    "    print numeros"
   ]
  },
  {
   "cell_type": "code",
   "execution_count": null,
   "metadata": {
    "collapsed": true
   },
   "outputs": [],
   "source": [
    "class ListaLogger(list):\n",
    "    def append(self, x):\n",
    "    print(\"Esto tambi´en a~nade\", x)\n",
    "    super().append(x)\n",
    "\n",
    "    numeros = ListaLogger([4, 5])\n",
    "    numeros.append(-1)\n",
    "    print(numeros)"
   ]
  },
  {
   "cell_type": "markdown",
   "metadata": {},
   "source": [
    "### Ejemplo de clase"
   ]
  },
  {
   "cell_type": "code",
   "execution_count": 24,
   "metadata": {},
   "outputs": [
    {
     "data": {
      "text/plain": [
       "[[1994, 1, 1, 6, 8096],\n",
       " [1994, 1, 2, 7, 7772],\n",
       " [1994, 1, 3, 1, 10142],\n",
       " [1994, 1, 4, 2, 11248],\n",
       " [1994, 1, 5, 3, 11053],\n",
       " [1994, 1, 6, 4, 11406],\n",
       " [1994, 1, 7, 5, 11251],\n",
       " [1994, 1, 8, 6, 8653],\n",
       " [1994, 1, 9, 7, 7910],\n",
       " [1994, 1, 10, 1, 10498]]"
      ]
     },
     "execution_count": 24,
     "metadata": {},
     "output_type": "execute_result"
    }
   ],
   "source": [
    "def read_csv(filename):\n",
    "    string_data = open(filename).read()\n",
    "    string_list = string_data.split(\"\\n\")[1:]\n",
    "    final_list = []\n",
    "    \n",
    "    for row in string_list:\n",
    "        string_fields = row.split(\",\")\n",
    "        int_fields = []\n",
    "        for value in string_fields:\n",
    "            int_fields.append(int(value))\n",
    "        final_list.append(int_fields)\n",
    "    return final_list\n",
    "        \n",
    "cdc_list = read_csv(\"./datos/cumple.csv\")\n",
    "cdc_list[0:10]"
   ]
  },
  {
   "cell_type": "code",
   "execution_count": 14,
   "metadata": {},
   "outputs": [],
   "source": [
    "import csv"
   ]
  },
  {
   "cell_type": "code",
   "execution_count": 26,
   "metadata": {},
   "outputs": [],
   "source": [
    "# Creamos la clase Dataset, con el atributo type y valor del atributo csv\n",
    "\n",
    "class Dataset:\n",
    "    def __init__(self):\n",
    "        self.type = \"csv\"\n",
    "        \n",
    "# Añadimos dinamicamente un atributo a nuestra instancia.\n",
    "class Dataset:\n",
    "    def __init__(self, data):\n",
    "        self.data = data\n",
    "\n",
    "f = open(\"./datos/nfl.csv\", 'r')\n",
    "csvreader = csv.reader(f)\n",
    "nfl_data = list(csvreader)\n",
    "\n",
    "nfl_dataset = Dataset(nfl_data)\n",
    "dataset_data = nfl_dataset.data"
   ]
  },
  {
   "cell_type": "code",
   "execution_count": 27,
   "metadata": {},
   "outputs": [
    {
     "name": "stdout",
     "output_type": "stream",
     "text": [
      "[['year', 'week', 'winner', 'loser'], ['2009', '1', 'Pittsburgh Steelers', 'Tennessee Titans'], ['2009', '1', 'Minnesota Vikings', 'Cleveland Browns'], ['2009', '1', 'New York Giants', 'Washington Redskins'], ['2009', '1', 'San Francisco 49ers', 'Arizona Cardinals']]\n"
     ]
    }
   ],
   "source": [
    "# Default display code\n",
    "class Dataset:\n",
    "    def __init__(self, data):\n",
    "        self.data = data\n",
    "        \n",
    "    # Your method goes here\n",
    "# Solution code\n",
    "class Dataset:\n",
    "    def __init__(self, data):\n",
    "        self.data = data\n",
    "    \n",
    "    def print_data(self, num_rows):\n",
    "        print(self.data[:num_rows])\n",
    "\n",
    "\n",
    "nfl_dataset = Dataset(nfl_data)\n",
    "nfl_dataset.print_data(5)"
   ]
  },
  {
   "cell_type": "code",
   "execution_count": 30,
   "metadata": {
    "collapsed": true
   },
   "outputs": [],
   "source": [
    "# Quitamos el header\n",
    "class Dataset:\n",
    "    def __init__(self, data):\n",
    "        self.data = data\n",
    "\n",
    "nfl_dataset = Dataset(nfl_data)\n",
    "# Solution code\n",
    "class Dataset:\n",
    "    def __init__(self, data):\n",
    "        self.header = data[0]\n",
    "        self.data = data[1:]\n",
    "\n",
    "nfl_dataset = Dataset(nfl_data)\n",
    "nfl_header = nfl_dataset.header"
   ]
  },
  {
   "cell_type": "code",
   "execution_count": null,
   "metadata": {
    "collapsed": true
   },
   "outputs": [],
   "source": [
    "Añade un método llamado columna que toma un argumento de etiqueta, busca el índice del encabezado y devuelve una lista de los datos de la columna.\n",
    "Si la etiqueta no está en el encabezado, debe devolver N"
   ]
  },
  {
   "cell_type": "code",
   "execution_count": null,
   "metadata": {
    "collapsed": true
   },
   "outputs": [],
   "source": [
    "# Default display code\n",
    "class Dataset:\n",
    "    def __init__(self, data):\n",
    "        self.header = data[0]\n",
    "        self.data = data[1:]\n",
    "        \n",
    "    # Add your method here.\n",
    "\n",
    "nfl_dataset = Dataset(nfl_data)\n",
    "# Solution code\n",
    "# Añadimos un método llamado columna que toma un argumento de etiqueta.\n",
    "# Busca el índice del encabezado y devuelve una lista de los datos de la columna.\n",
    "# Si la etiqueta no está en el encabezdo, debe devolver N.\n",
    "\n",
    "class Dataset:\n",
    "    def __init__(self, data):\n",
    "        self.header = data[0]\n",
    "        self.data = data[1:]\n",
    "    \n",
    "    def column(self, label):\n",
    "        if label not in self.header:\n",
    "            return None\n",
    "        \n",
    "        index = 0\n",
    "        for idx, element in enumerate(self.header):\n",
    "            if label == element:\n",
    "                index = idx\n",
    "        \n",
    "        column = []\n",
    "        for row in self.data:\n",
    "            column.append(row[index])\n",
    "        return column\n",
    "\n",
    "nfl_dataset = Dataset(nfl_data)\n",
    "year_column = nfl_dataset.column('year')\n",
    "player_column = nfl_dataset.column('player')"
   ]
  },
  {
   "cell_type": "code",
   "execution_count": null,
   "metadata": {
    "collapsed": true
   },
   "outputs": [],
   "source": []
  },
  {
   "cell_type": "code",
   "execution_count": null,
   "metadata": {
    "collapsed": true
   },
   "outputs": [],
   "source": []
  },
  {
   "cell_type": "code",
   "execution_count": null,
   "metadata": {
    "collapsed": true
   },
   "outputs": [],
   "source": []
  },
  {
   "cell_type": "code",
   "execution_count": null,
   "metadata": {
    "collapsed": true
   },
   "outputs": [],
   "source": []
  },
  {
   "cell_type": "code",
   "execution_count": null,
   "metadata": {
    "collapsed": true
   },
   "outputs": [],
   "source": []
  },
  {
   "cell_type": "code",
   "execution_count": null,
   "metadata": {
    "collapsed": true
   },
   "outputs": [],
   "source": []
  },
  {
   "cell_type": "code",
   "execution_count": null,
   "metadata": {
    "collapsed": true
   },
   "outputs": [],
   "source": []
  }
 ],
 "metadata": {
  "kernelspec": {
   "display_name": "Python 3",
   "language": "python",
   "name": "python3"
  },
  "language_info": {
   "codemirror_mode": {
    "name": "ipython",
    "version": 3
   },
   "file_extension": ".py",
   "mimetype": "text/x-python",
   "name": "python",
   "nbconvert_exporter": "python",
   "pygments_lexer": "ipython3",
   "version": "3.6.3"
  }
 },
 "nbformat": 4,
 "nbformat_minor": 2
}
