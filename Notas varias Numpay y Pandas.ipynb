{
 "cells": [
  {
   "cell_type": "markdown",
   "metadata": {
    "collapsed": true
   },
   "source": [
    "# Numpy_review"
   ]
  },
  {
   "cell_type": "code",
   "execution_count": 2,
   "metadata": {
    "collapsed": true
   },
   "outputs": [],
   "source": [
    "# The core data structure in NumPy is the ndarray object, \n",
    "# which stands for N-dimensional array. \n",
    "# An array is a collection of values, similar to a list. \n",
    "# N-dimensional refers to the number of indices needed to select individual values from the object."
   ]
  },
  {
   "cell_type": "code",
   "execution_count": 3,
   "metadata": {
    "collapsed": true
   },
   "outputs": [],
   "source": [
    "# 1 dimension >> vector\n",
    "# 2 dimension >> matrix"
   ]
  },
  {
   "cell_type": "code",
   "execution_count": 4,
   "metadata": {
    "collapsed": true
   },
   "outputs": [],
   "source": [
    "import numpy as np"
   ]
  },
  {
   "cell_type": "code",
   "execution_count": 5,
   "metadata": {
    "collapsed": true
   },
   "outputs": [],
   "source": [
    "vector = np.array([5, 10, 15, 20])"
   ]
  },
  {
   "cell_type": "code",
   "execution_count": 6,
   "metadata": {},
   "outputs": [
    {
     "name": "stdout",
     "output_type": "stream",
     "text": [
      "[ 5 10 15 20]\n"
     ]
    }
   ],
   "source": [
    "print (vector)"
   ]
  },
  {
   "cell_type": "code",
   "execution_count": 7,
   "metadata": {
    "collapsed": true
   },
   "outputs": [],
   "source": [
    "matrix = np.array([[5, 10, 15], [20, 25, 30], [35, 40, 45]])"
   ]
  },
  {
   "cell_type": "code",
   "execution_count": 8,
   "metadata": {},
   "outputs": [
    {
     "name": "stdout",
     "output_type": "stream",
     "text": [
      "[[ 5 10 15]\n",
      " [20 25 30]\n",
      " [35 40 45]]\n"
     ]
    }
   ],
   "source": [
    "print (matrix)"
   ]
  },
  {
   "cell_type": "code",
   "execution_count": 9,
   "metadata": {},
   "outputs": [
    {
     "name": "stdout",
     "output_type": "stream",
     "text": [
      "<class 'numpy.ndarray'>\n"
     ]
    }
   ],
   "source": [
    "# Abrimos un archivo usando una función específica\n",
    "\n",
    "world_alcohol = np.genfromtxt(\"./datos/world_alcohol.csv\", delimiter=\",\")\n",
    "print(type(world_alcohol))"
   ]
  },
  {
   "cell_type": "code",
   "execution_count": 10,
   "metadata": {},
   "outputs": [
    {
     "name": "stdout",
     "output_type": "stream",
     "text": [
      "[[             nan              nan              nan              nan\n",
      "               nan]\n",
      " [  1.98600000e+03              nan              nan              nan\n",
      "    0.00000000e+00]\n",
      " [  1.98600000e+03              nan              nan              nan\n",
      "    5.00000000e-01]\n",
      " ..., \n",
      " [  1.98600000e+03              nan              nan              nan\n",
      "    2.54000000e+00]\n",
      " [  1.98700000e+03              nan              nan              nan\n",
      "    0.00000000e+00]\n",
      " [  1.98600000e+03              nan              nan              nan\n",
      "    5.15000000e+00]]\n"
     ]
    }
   ],
   "source": [
    "print(world_alcohol)"
   ]
  },
  {
   "cell_type": "code",
   "execution_count": 11,
   "metadata": {
    "collapsed": true
   },
   "outputs": [],
   "source": [
    "# En numpay estos son los tipos más comunes de datos:\n",
    "# bool: Boolean >> Can be True or False.\n",
    "# int: Integer values >> Can be int16, int32, or int64. The suffix 16, 32, or 64 indicates the number of bits.\n",
    "# float: Floating point values >> Can be float16, float32, or float64. The suffix 16, 32, or 64 indicates how many numbers after the decimal point the number can have.\n",
    "# string: String values >> Can be string or unicode, which are two different ways a computer can store text"
   ]
  },
  {
   "cell_type": "markdown",
   "metadata": {
    "collapsed": true
   },
   "source": [
    "#### Todos los valores en una matriz NumPy tienen que tener el mismo tipo de datos, \n",
    "#### Pandas puede trabajar con valores mixtos."
   ]
  },
  {
   "cell_type": "code",
   "execution_count": 12,
   "metadata": {
    "collapsed": true
   },
   "outputs": [],
   "source": [
    "#  La función numpy.genfromtxt() intentará adivinar el tipo de datos correcto del array que crea.\n",
    "\n"
   ]
  },
  {
   "cell_type": "code",
   "execution_count": 14,
   "metadata": {},
   "outputs": [
    {
     "name": "stdout",
     "output_type": "stream",
     "text": [
      "[['1986' 'Western Pacific' 'Viet Nam' 'Wine' '0']\n",
      " ['1986' 'Americas' 'Uruguay' 'Other' '0.5']\n",
      " ['1985' 'Africa' \"Cte d'Ivoire\" 'Wine' '1.62']\n",
      " ..., \n",
      " ['1986' 'Europe' 'Switzerland' 'Spirits' '2.54']\n",
      " ['1987' 'Western Pacific' 'Papua New Guinea' 'Other' '0']\n",
      " ['1986' 'Africa' 'Swaziland' 'Other' '5.15']]\n"
     ]
    }
   ],
   "source": [
    "world_alcohol = np.genfromtxt(\"./datos/world_alcohol.csv\", delimiter=\",\", dtype=\"U75\", skip_header=1)\n",
    "print(world_alcohol)\n",
    "\n",
    "# hemos abierto el archivo, especificado el tipo de dato.\n",
    "# U75 >> Esto especifica que queremos leer cada valor como un tipo de datos unicode de 75 bytes.\n",
    "# Con skip, le indicamos que omita la primera linea header."
   ]
  },
  {
   "cell_type": "code",
   "execution_count": 15,
   "metadata": {},
   "outputs": [
    {
     "name": "stdout",
     "output_type": "stream",
     "text": [
      "5\n"
     ]
    }
   ],
   "source": [
    "vector = np.array([5, 10, 15, 20])\n",
    "print(vector[0])\n",
    "# muestramoe el valor correspondiente a indice 0"
   ]
  },
  {
   "cell_type": "code",
   "execution_count": 16,
   "metadata": {
    "collapsed": true
   },
   "outputs": [],
   "source": [
    "# en el caso de que tengamos una matriz lo haríamos así:\n",
    "list_of_lists = [\n",
    "        [5, 10, 15], \n",
    "        [20, 25, 30]\n",
    "       ]"
   ]
  },
  {
   "cell_type": "code",
   "execution_count": 17,
   "metadata": {},
   "outputs": [
    {
     "data": {
      "text/plain": [
       "15"
      ]
     },
     "execution_count": 17,
     "metadata": {},
     "output_type": "execute_result"
    }
   ],
   "source": [
    "# para acceder al elemento 15, lo haríamos así >>\n",
    "first_item = list_of_lists[0]\n",
    "first_item[2]"
   ]
  },
  {
   "cell_type": "code",
   "execution_count": 18,
   "metadata": {},
   "outputs": [
    {
     "data": {
      "text/plain": [
       "15"
      ]
     },
     "execution_count": 18,
     "metadata": {},
     "output_type": "execute_result"
    }
   ],
   "source": [
    "# también podríamos compensarlo de la siguiente manera:\n",
    "list_of_lists[0][2]\n"
   ]
  },
  {
   "cell_type": "code",
   "execution_count": 19,
   "metadata": {
    "collapsed": true
   },
   "outputs": [],
   "source": [
    "# We can index matrices in a similar way, but we place both indices inside square brackets. \n",
    "# The first index specifies which row the data comes from.\n",
    "# The second index specifies which column the data comes from:\n",
    "\n",
    "matrix = np.array([\n",
    "                        [5, 10, 15], \n",
    "                        [20, 25, 30]\n",
    "                     ])\n"
   ]
  },
  {
   "cell_type": "code",
   "execution_count": 20,
   "metadata": {},
   "outputs": [
    {
     "data": {
      "text/plain": [
       "30"
      ]
     },
     "execution_count": 20,
     "metadata": {},
     "output_type": "execute_result"
    }
   ],
   "source": [
    "# para acceder al 30\n",
    "matrix[1,2]"
   ]
  },
  {
   "cell_type": "markdown",
   "metadata": {
    "collapsed": true
   },
   "source": [
    "#### Notas Pandas:"
   ]
  },
  {
   "cell_type": "code",
   "execution_count": null,
   "metadata": {
    "collapsed": true
   },
   "outputs": [],
   "source": [
    "# Ventajas Pandas vs NumPy >> la capacidad de almacenar tipos de datos mixtos en filas y columnas. \n",
    "# NumPy no lo hace, no puede trabajar con datos mixtos. \n",
    "# Pandas utiliza un objeto propio NaN, Numpay no tiene ninguno.\n"
   ]
  },
  {
   "cell_type": "code",
   "execution_count": 23,
   "metadata": {},
   "outputs": [
    {
     "data": {
      "image/png": "[encoded data removed]",
      "text/plain": [
       "<matplotlib.figure.Figure at 0x7f9e5f76a8d0>"
      ]
     },
     "metadata": {},
     "output_type": "display_data"
    },
    {
     "data": {
      "image/png": "[encoded data removed]",
      "text/plain": [
       "<matplotlib.figure.Figure at 0x7f9e553b2ba8>"
      ]
     },
     "metadata": {},
     "output_type": "display_data"
    }
   ],
   "source": [
    "day_numbers = [1,2,3,4,5,6,7]\n",
    "snail_crawl_length = [.5,2,5,10,1,.25,4]\n",
    "cars_in_parking_lot = [5,6,4,2,1,7,8]\n",
    "\n",
    "import matplotlib.pyplot as plt\n",
    "plt.plot(day_numbers, snail_crawl_length)\n",
    "plt.show()\n",
    "\n",
    "plt.plot(day_numbers, cars_in_parking_lot)\n",
    "plt.show()"
   ]
  },
  {
   "cell_type": "code",
   "execution_count": 31,
   "metadata": {
    "collapsed": true
   },
   "outputs": [],
   "source": [
    "# Results from our survey on how many cigarettes people smoke per day\n",
    "# Vamos a asignarle a cada respuesta un valor asociado.\n",
    "\n",
    "survey_responses = [\"none\", \"some\", \"a lot\", \"none\", \"a few\", \"none\", \"none\"]\n",
    "survey_scale = [\"none\", \"a few\", \"some\", \"a lot\"]\n",
    "\n",
    "# Vamos a asignarle a cada respuesta un valor asociado.\n",
    "\n",
    "survey_numbers = [survey_scale.index(response) for response in survey_responses]\n"
   ]
  },
  {
   "cell_type": "code",
   "execution_count": 32,
   "metadata": {},
   "outputs": [
    {
     "name": "stdout",
     "output_type": "stream",
     "text": [
      "[0, 2, 3, 0, 1, 0, 0]\n"
     ]
    }
   ],
   "source": [
    "print(survey_numbers)"
   ]
  },
  {
   "cell_type": "code",
   "execution_count": 28,
   "metadata": {},
   "outputs": [
    {
     "name": "stdout",
     "output_type": "stream",
     "text": [
      "0.8571428571428571\n"
     ]
    }
   ],
   "source": [
    "# Ahora podemos sacar la media de los cigarros que se consumen al día.\n",
    "\n",
    "average_smoking = sum(survey_numbers) / len(survey_numbers)\n",
    "print(average_smoking)"
   ]
  },
  {
   "cell_type": "code",
   "execution_count": 35,
   "metadata": {},
   "outputs": [
    {
     "name": "stdout",
     "output_type": "stream",
     "text": [
      "[1200, 2400, 2800]\n"
     ]
    }
   ],
   "source": [
    "# Tenemos 2 listas : \n",
    "# La primera es la cantidad de \" ahorros\" \n",
    "# La segunda es el género de la persona que ahorra.\n",
    "\n",
    "gender = [\"male\", \"female\", \"female\", \"male\", \"male\", \"female\"]\n",
    "savings = [1200, 5000, 3400, 2400, 2800, 4100]\n",
    "\n",
    "# Guarda en una lista solo los valores que corresponden a cada uno de los géneros\n",
    "\n",
    "male_savings_list = [savings[i] for i in range(0, len(gender)) if gender[i] == \"male\"]\n",
    "female_savings_list = [savings[i] for i in range(0, len(gender)) if gender[i] == \"female\"]\n",
    "\n",
    "print(male_savings_list)\n",
    "\n",
    "# calculamos la media\n",
    "\n",
    "male_savings = sum(male_savings_list) / len(male_savings_list)\n",
    "female_savings = sum(female_savings_list) / len(female_savings_list)\n",
    "\n"
   ]
  },
  {
   "cell_type": "code",
   "execution_count": 37,
   "metadata": {},
   "outputs": [
    {
     "data": {
      "image/png": "[encoded data removed]",
      "text/plain": [
       "<matplotlib.figure.Figure at 0x7f9e5539a518>"
      ]
     },
     "metadata": {},
     "output_type": "display_data"
    },
    {
     "data": {
      "image/png": "[encoded data removed]",
      "text/plain": [
       "<matplotlib.figure.Figure at 0x7f9e552adbe0>"
      ]
     },
     "metadata": {},
     "output_type": "display_data"
    },
    {
     "data": {
      "image/png": "[encoded data removed]",
      "text/plain": [
       "<matplotlib.figure.Figure at 0x7f9e55283780>"
      ]
     },
     "metadata": {},
     "output_type": "display_data"
    }
   ],
   "source": [
    "average_speed = [10, 20, 25, 27, 28, 22, 15, 18, 17]\n",
    "import matplotlib.pyplot as plt\n",
    "plt.hist(average_speed, bins=6)\n",
    "plt.show()\n",
    "\n",
    "# As you can see, matplotlib groups the values in the list into the nearest bins.\n",
    "# If we have fewer bins, each bin will have a higher count (because there will be fewer bins to group all of the values into).\n",
    "# If there are more bins, the total for each one will decrease, because each one will contain fewer values.\n",
    "plt.hist(average_speed, bins=4)\n",
    "plt.show()\n",
    "plt.hist(average_speed, bins=2)\n",
    "plt.show()"
   ]
  },
  {
   "cell_type": "code",
   "execution_count": 42,
   "metadata": {},
   "outputs": [
    {
     "name": "stdout",
     "output_type": "stream",
     "text": [
      "(1310, 14)\n",
      "(0, 14)\n",
      "(293, 14)\n"
     ]
    }
   ],
   "source": [
    "import pandas\n",
    "f = \"./datos/titanic_survival.csv\"\n",
    "titanic_survival = pandas.read_csv(f)\n",
    "\n",
    "# Let's look at how large the DataFrame is first\n",
    "print(titanic_survival.shape)\n",
    "\n",
    "\n",
    "# It will remove any rows with that contain missing values\n",
    "new_titanic_survival = titanic_survival.dropna()\n",
    "\n",
    "# Después de eliminar todas las filas con missing values, nos damos cuenta\n",
    "# de que no tenemos filas!\n",
    "# Eso significa que tenemos que tenemos muchas, todas las filas con valores faltantes.\n",
    "print(new_titanic_survival.shape)\n",
    "\n",
    "# Podemos solucionar esto, seleccionando seleccionando un subset, de manera que solo \n",
    "# eliminamos determinadas columnas.\n",
    "new_titanic_survival = titanic_survival.dropna(subset=[\"embarked\", \"cabin\"])\n",
    "\n",
    "# This result is much better. We've only removed the rows we needed to.\n",
    "print(new_titanic_survival.shape)\n",
    "new_titanic_survival = titanic_survival.dropna(subset=[\"age\", \"sex\"])"
   ]
  },
  {
   "cell_type": "code",
   "execution_count": 43,
   "metadata": {},
   "outputs": [
    {
     "data": {
      "image/png": "[encoded data removed]",
      "text/plain": [
       "<matplotlib.figure.Figure at 0x7f9e4c841f60>"
      ]
     },
     "metadata": {},
     "output_type": "display_data"
    }
   ],
   "source": [
    "# Visualizamos para ver mejor los datos.\n",
    "# La linea verde es la mediana, y la roja la media.\n",
    "\n",
    "import matplotlib.pyplot as plt\n",
    "\n",
    "import numpy\n",
    "\n",
    "plt.hist(new_titanic_survival[\"age\"])\n",
    "plt.axvline(numpy.median(new_titanic_survival[\"age\"]), color=\"g\")\n",
    "plt.axvline(new_titanic_survival[\"age\"].mean(), color=\"r\")\n",
    "plt.show()\n"
   ]
  },
  {
   "cell_type": "code",
   "execution_count": null,
   "metadata": {
    "collapsed": true
   },
   "outputs": [],
   "source": []
  },
  {
   "cell_type": "markdown",
   "metadata": {},
   "source": [
    "### Pequeño ejercicio"
   ]
  },
  {
   "cell_type": "markdown",
   "metadata": {},
   "source": [
    "#### Calculo de la varianza"
   ]
  },
  {
   "cell_type": "code",
   "execution_count": 53,
   "metadata": {
    "collapsed": true
   },
   "outputs": [],
   "source": [
    "import pandas\n",
    "f = \"./datos/nba_2013.csv\"\n",
    "nba_stats = pandas.read_csv(f)"
   ]
  },
  {
   "cell_type": "code",
   "execution_count": 54,
   "metadata": {},
   "outputs": [
    {
     "name": "stdout",
     "output_type": "stream",
     "text": [
      "                    player pos  age bref_team_id   g  gs    mp   fg   fga  \\\n",
      "0               Quincy Acy  SF   23          TOT  63   0   847   66   141   \n",
      "1             Steven Adams   C   20          OKC  81  20  1197   93   185   \n",
      "2              Jeff Adrien  PF   27          TOT  53  12   961  143   275   \n",
      "3            Arron Afflalo  SG   28          ORL  73  73  2552  464  1011   \n",
      "4            Alexis Ajinca   C   25          NOP  56  30   951  136   249   \n",
      "5             Cole Aldrich   C   25          NYK  46   2   330   33    61   \n",
      "6        LaMarcus Aldridge  PF   28          POR  69  69  2498  652  1423   \n",
      "7              Lavoy Allen  PF   24          TOT  65   2  1072  134   300   \n",
      "8                Ray Allen  SG   38          MIA  73   9  1936  240   543   \n",
      "9               Tony Allen  SG   32          MEM  55  28  1278  204   413   \n",
      "10         Al-Farouq Aminu  SF   23          NOP  80  65  2045  234   494   \n",
      "11          Louis Amundson  PF   31          TOT  19   0   185   16    32   \n",
      "12          Chris Andersen   C   35          MIA  72   0  1396  177   275   \n",
      "13           Alan Anderson  SF   31          BRK  78  26  1773  194   485   \n",
      "14          James Anderson  SG   24          PHI  80  62  2309  309   717   \n",
      "15           Ryan Anderson  PF   25          NOP  22  14   795  155   354   \n",
      "16   Giannis Antetokounmpo  SF   19          MIL  77  23  1897  173   418   \n",
      "17         Carmelo Anthony  PF   29          NYK  77  77  2982  743  1643   \n",
      "18            Joel Anthony   C   31          TOT  33   0   186   12    32   \n",
      "19              Pero Antic  PF   31          ATL  50  26   925  123   294   \n",
      "20            Trevor Ariza  SF   28          WAS  77  77  2723  389   853   \n",
      "21        Hilton Armstrong   C   29          GSW  15   1    97    9    19   \n",
      "22          Darrell Arthur  SF   25          DEN  68   1  1161  162   410   \n",
      "23               Omer Asik   C   27          HOU  48  19   968  101   190   \n",
      "24           D.J. Augustin  PG   26          TOT  71   9  1939  298   718   \n",
      "25            Gustavo Ayon   C   28          ATL  26  14   429   52   102   \n",
      "26              Jeff Ayres  PF   26          SAS  73  10   952  101   174   \n",
      "27              Chris Babb  SG   23          BOS  14   0   132    8    30   \n",
      "28            Luke Babbitt  PF   24          NOP  27   2   473   60   154   \n",
      "29         Leandro Barbosa  PG   31          PHO  20   0   368   56   131   \n",
      "..                     ...  ..  ...          ...  ..  ..   ...  ...   ...   \n",
      "451              John Wall  PG   23          WAS  82  82  2980  579  1337   \n",
      "452         Gerald Wallace  SF   31          BOS  58  16  1416  116   230   \n",
      "453            Casper Ware  PG   24          PHI   9   0   116   18    42   \n",
      "454            C.J. Watson  PG   29          IND  63   5  1193  146   334   \n",
      "455            Earl Watson  PG   34          POR  24   0   161    3    11   \n",
      "456           Maalik Wayns  PG   22          LAC   2   0     9    1     2   \n",
      "457        Martell Webster  SF   27          WAS  78  13  2157  254   587   \n",
      "458             David West  PF   33          IND  80  80  2472  458   939   \n",
      "459      Russell Westbrook  PG   25          OKC  46  46  1412  346   791   \n",
      "460             D.J. White  PF   27          CHA   2   0    10    0     1   \n",
      "461            Royce White  PF   22          SAC   3   0     9    0     1   \n",
      "462         Deron Williams  PG   29          BRK  64  58  2059  322   716   \n",
      "463       Derrick Williams  SF   22          TOT  78  15  1820  206   482   \n",
      "464        Elliot Williams  SG   24          PHI  67   2  1157  140   337   \n",
      "465         Louis Williams  PG   27          ATL  60   7  1445  197   493   \n",
      "466        Marvin Williams  PF   27          UTA  66  50  1674  231   526   \n",
      "467            Mo Williams  PG   31          POR  74   0  1834  280   672   \n",
      "468        Reggie Williams  SF   27          OKC   3   0    17    5     9   \n",
      "469        Shawne Williams  PF   27          LAL  36  13   751   73   192   \n",
      "470            Jeff Withey   C   23          NOP  58   4   684   69   129   \n",
      "471           Nate Wolters  PG   22          MIL  58  31  1309  170   389   \n",
      "472      Metta World Peace  SF   34          NYK  29   1   388   56   141   \n",
      "473         Brandan Wright   C   26          DAL  58   0  1077  224   331   \n",
      "474           Chris Wright  SF   25          MIL   8   0   126   21    35   \n",
      "475          Dorell Wright  SF   28          POR  68  13   984  111   297   \n",
      "476            Tony Wroten  SG   20          PHI  72  16  1765  345   808   \n",
      "477             Nick Young  SG   28          LAL  64   9  1810  387   889   \n",
      "478         Thaddeus Young  PF   25          PHI  79  78  2718  582  1283   \n",
      "479            Cody Zeller   C   21          CHA  82   3  1416  172   404   \n",
      "480           Tyler Zeller   C   24          CLE  70   9  1049  156   290   \n",
      "\n",
      "       fg.     ...      drb  trb  ast  stl  blk  tov   pf   pts     season  \\\n",
      "0    0.468     ...      144  216   28   23   26   30  122   171  2013-2014   \n",
      "1    0.503     ...      190  332   43   40   57   71  203   265  2013-2014   \n",
      "2    0.520     ...      204  306   38   24   36   39  108   362  2013-2014   \n",
      "3    0.459     ...      230  262  248   35    3  146  136  1330  2013-2014   \n",
      "4    0.546     ...      183  277   40   23   46   63  187   328  2013-2014   \n",
      "5    0.541     ...       92  129   14    8   30   18   40    92  2013-2014   \n",
      "6    0.458     ...      599  765  178   63   68  123  147  1603  2013-2014   \n",
      "7    0.447     ...      192  311   71   24   33   44  126   303  2013-2014   \n",
      "8    0.442     ...      182  205  143   54    8   84  115   701  2013-2014   \n",
      "9    0.494     ...      129  208   94   90   19   90  121   495  2013-2014   \n",
      "10   0.474     ...      367  496  114   82   38   88  147   572  2013-2014   \n",
      "11   0.500     ...       27   55    6    9   11   14   49    38  2013-2014   \n",
      "12   0.644     ...      250  379   19   32   97   53  162   477  2013-2014   \n",
      "13   0.400     ...      135  175   81   48   11   62  147   564  2013-2014   \n",
      "14   0.431     ...      241  300  149   74   28  106  154   810  2013-2014   \n",
      "15   0.438     ...       76  142   17   10    7   20   47   436  2013-2014   \n",
      "16   0.414     ...      261  339  150   60   61  122  173   525  2013-2014   \n",
      "17   0.452     ...      477  622  242   95   51  198  224  2112  2013-2014   \n",
      "18   0.375     ...       23   38    2    3   12    3   17    28  2013-2014   \n",
      "19   0.418     ...      152  209   58   19   12   55  126   352  2013-2014   \n",
      "20   0.456     ...      376  475  191  126   20  132  179  1107  2013-2014   \n",
      "21   0.474     ...       28   47    5    4    4    6   11    25  2013-2014   \n",
      "22   0.395     ...      158  210   61   39   47   58  185   401  2013-2014   \n",
      "23   0.532     ...      277  378   25   14   37   59   92   280  2013-2014   \n",
      "24   0.415     ...      115  130  313   53    3  125  147   930  2013-2014   \n",
      "25   0.510     ...       83  125   28   25   10   29   47   112  2013-2014   \n",
      "26   0.580     ...      169  258   60   13   25   63  146   240  2013-2014   \n",
      "27   0.267     ...       13   17    3    6    0    3   13    22  2013-2014   \n",
      "28   0.390     ...       70   88   29    7   11   15   52   170  2013-2014   \n",
      "29   0.427     ...       32   37   32    7    4   19   30   150  2013-2014   \n",
      "..     ...     ...      ...  ...  ...  ...  ...  ...  ...   ...        ...   \n",
      "451  0.433     ...      295  333  721  149   40  295  219  1583  2013-2014   \n",
      "452  0.504     ...      176  212  143   73   14   97   79   298  2013-2014   \n",
      "453  0.429     ...        9    9   10    8    0    5   11    48  2013-2014   \n",
      "454  0.437     ...       82  101  107   60    8   60   66   414  2013-2014   \n",
      "455  0.273     ...       10   15   28    5    1   17   33    12  2013-2014   \n",
      "456  0.500     ...        2    2    2    2    0    0    4     2  2013-2014   \n",
      "457  0.433     ...      184  222   97   41   15   58  150   759  2013-2014   \n",
      "458  0.488     ...      422  542  223   61   74  133  186  1118  2013-2014   \n",
      "459  0.437     ...      208  263  319   88    7  177  104  1002  2013-2014   \n",
      "460  0.000     ...        2    2    0    1    0    0    1     0  2013-2014   \n",
      "461  0.000     ...        0    0    0    0    0    0    2     0  2013-2014   \n",
      "462  0.450     ...      153  168  392   93   13  143  148   915  2013-2014   \n",
      "463  0.427     ...      252  323   56   48   20   76  114   624  2013-2014   \n",
      "464  0.415     ...      100  130   72   35    3   68  126   404  2013-2014   \n",
      "465  0.400     ...      114  124  210   45    4   92   65   625  2013-2014   \n",
      "466  0.439     ...      252  334   78   54   31   53  151   603  2013-2014   \n",
      "467  0.417     ...      111  153  321   55   10  149  197   721  2013-2014   \n",
      "468  0.556     ...        0    0    1    1    0    2    1    11  2013-2014   \n",
      "469  0.380     ...      142  167   30   19   30   21   93   202  2013-2014   \n",
      "470  0.535     ...      101  150   26   15   50   20   73   190  2013-2014   \n",
      "471  0.437     ...      116  149  187   35   15   57   67   417  2013-2014   \n",
      "472  0.397     ...       41   59   17   24    8   19   44   139  2013-2014   \n",
      "473  0.677     ...      142  244   31   32   55   35   94   525  2013-2014   \n",
      "474  0.600     ...       10   20    5    7    5    5   17    48  2013-2014   \n",
      "475  0.374     ...      162  191   64   23   16   39   62   343  2013-2014   \n",
      "476  0.427     ...      159  228  217   78   16  204  151   939  2013-2014   \n",
      "477  0.435     ...      137  166   95   46   12   95  156  1144  2013-2014   \n",
      "478  0.454     ...      310  476  182  167   36  165  213  1417  2013-2014   \n",
      "479  0.426     ...      235  353   92   40   41   87  170   490  2013-2014   \n",
      "480  0.538     ...      179  282   36   18   38   60  137   399  2013-2014   \n",
      "\n",
      "     season_end  \n",
      "0          2013  \n",
      "1          2013  \n",
      "2          2013  \n",
      "3          2013  \n",
      "4          2013  \n",
      "5          2013  \n",
      "6          2013  \n",
      "7          2013  \n",
      "8          2013  \n",
      "9          2013  \n",
      "10         2013  \n",
      "11         2013  \n",
      "12         2013  \n",
      "13         2013  \n",
      "14         2013  \n",
      "15         2013  \n",
      "16         2013  \n",
      "17         2013  \n",
      "18         2013  \n",
      "19         2013  \n",
      "20         2013  \n",
      "21         2013  \n",
      "22         2013  \n",
      "23         2013  \n",
      "24         2013  \n",
      "25         2013  \n",
      "26         2013  \n",
      "27         2013  \n",
      "28         2013  \n",
      "29         2013  \n",
      "..          ...  \n",
      "451        2013  \n",
      "452        2013  \n",
      "453        2013  \n",
      "454        2013  \n",
      "455        2013  \n",
      "456        2013  \n",
      "457        2013  \n",
      "458        2013  \n",
      "459        2013  \n",
      "460        2013  \n",
      "461        2013  \n",
      "462        2013  \n",
      "463        2013  \n",
      "464        2013  \n",
      "465        2013  \n",
      "466        2013  \n",
      "467        2013  \n",
      "468        2013  \n",
      "469        2013  \n",
      "470        2013  \n",
      "471        2013  \n",
      "472        2013  \n",
      "473        2013  \n",
      "474        2013  \n",
      "475        2013  \n",
      "476        2013  \n",
      "477        2013  \n",
      "478        2013  \n",
      "479        2013  \n",
      "480        2013  \n",
      "\n",
      "[481 rows x 31 columns]\n"
     ]
    }
   ],
   "source": [
    "print(archivo)"
   ]
  },
  {
   "cell_type": "code",
   "execution_count": 55,
   "metadata": {},
   "outputs": [
    {
     "name": "stdout",
     "output_type": "stream",
     "text": [
      "105.86902286902287\n",
      "220836.995855\n"
     ]
    }
   ],
   "source": [
    "import matplotlib.pyplot as plt\n",
    "import pandas as pd\n",
    "# We've already loaded the NBA data into the nba_stats variable.\n",
    "# Find the mean value of the column.\n",
    "pf_mean = nba_stats[\"pf\"].mean()\n",
    "\n",
    "print(pf_mean)\n",
    "# Initialize variance at zero.\n",
    "variance = 0\n",
    "# Loop through each item in the \"pf\" column.\n",
    "for p in nba_stats[\"pf\"]:\n",
    "    # Calculate the difference between the mean and the value.\n",
    "    difference = p - pf_mean\n",
    "    # Square the difference. This ensures that the result isn't negative.\n",
    "    # If we didn't square the difference, the total variance would be zero.\n",
    "    # ** in python means \"raise whatever comes before this to the power of whatever number is after this.\"\n",
    "    square_difference = difference ** 2\n",
    "    # Add the difference to the total.\n",
    "    variance += square_difference\n",
    "# Average the total to find the final variance.\n",
    "variance = variance / len(nba_stats[\"pf\"])\n",
    "point_mean = nba_stats[\"pts\"].mean()\n",
    "point_variance = 0\n",
    "for p in nba_stats[\"pts\"]:\n",
    "    difference = p - point_mean\n",
    "    square_difference = difference ** 2\n",
    "    point_variance += square_difference\n",
    "point_variance = point_variance / len(nba_stats[\"pts\"])\n",
    "\n",
    "print(point_variance)"
   ]
  },
  {
   "cell_type": "code",
   "execution_count": 56,
   "metadata": {
    "collapsed": true
   },
   "outputs": [],
   "source": [
    "## We've already loaded the NBA stats into the nba_stats variable.\n",
    "def calc_column_deviation(column):\n",
    "    mean = column.mean()\n",
    "    variance = 0\n",
    "    for p in column:\n",
    "        difference = p - mean\n",
    "        square_difference = difference ** 2\n",
    "        variance += square_difference\n",
    "    variance = variance / len(column)\n",
    "    return variance ** (1/2)\n",
    "\n"
   ]
  },
  {
   "cell_type": "code",
   "execution_count": null,
   "metadata": {
    "collapsed": true
   },
   "outputs": [],
   "source": [
    "# Calculamos las desviaciones típicas:\n",
    "\n",
    "mp_dev = calc_column_deviation(nba_stats[\"mp\"])\n",
    "ast_dev = calc_column_deviation(nba_stats[\"ast\"])"
   ]
  },
  {
   "cell_type": "code",
   "execution_count": 57,
   "metadata": {},
   "outputs": [
    {
     "name": "stdout",
     "output_type": "stream",
     "text": [
      "896.32565278\n"
     ]
    }
   ],
   "source": [
    "print(mp_dev)"
   ]
  },
  {
   "cell_type": "code",
   "execution_count": 58,
   "metadata": {},
   "outputs": [
    {
     "name": "stdout",
     "output_type": "stream",
     "text": [
      "130.883290708\n"
     ]
    }
   ],
   "source": [
    "print(ast_dev)"
   ]
  },
  {
   "cell_type": "markdown",
   "metadata": {},
   "source": [
    "### desviación media"
   ]
  },
  {
   "cell_type": "code",
   "execution_count": 59,
   "metadata": {},
   "outputs": [
    {
     "data": {
      "image/png": "[encoded data removed]",
      "text/plain": [
       "<matplotlib.figure.Figure at 0x7f9e4c7a8cf8>"
      ]
     },
     "metadata": {},
     "output_type": "display_data"
    }
   ],
   "source": [
    "import matplotlib.pyplot as plt\n",
    "\n",
    "plt.hist(nba_stats[\"pf\"])\n",
    "mean = nba_stats[\"pf\"].mean()\n",
    "plt.axvline(mean, color=\"r\")\n",
    "# We can calculate standard deviation by using the std() method on a pandas series.\n",
    "std_dev = nba_stats[\"pf\"].std()\n",
    "# Plot a line one standard deviation below the mean.\n",
    "plt.axvline(mean - std_dev, color=\"g\")\n",
    "# Plot a line one standard deviation above the mean.\n",
    "plt.axvline(mean + std_dev, color=\"g\")\n",
    "\n",
    "# We can see how many of the data points fall within one standard deviation of the mean.\n",
    "# The more that fall into this range, the more dense the data is.\n",
    "plt.show()\n",
    "\n",
    "# We can calculate how many standard deviations a data point is from the mean by doing some subtraction and division.\n",
    "# First, we find the total distance by subtracting the mean.\n",
    "total_distance = nba_stats[\"pf\"][0] - mean\n",
    "# Then we divide by standard deviation to find how many standard deviations away the point is.\n",
    "standard_deviation_distance = total_distance / std_dev\n",
    "\n",
    "point_10 = nba_stats[\"pf\"][9]\n",
    "point_100 = nba_stats[\"pf\"][99]"
   ]
  },
  {
   "cell_type": "code",
   "execution_count": null,
   "metadata": {
    "collapsed": true
   },
   "outputs": [],
   "source": []
  },
  {
   "cell_type": "code",
   "execution_count": null,
   "metadata": {
    "collapsed": true
   },
   "outputs": [],
   "source": []
  },
  {
   "cell_type": "code",
   "execution_count": null,
   "metadata": {
    "collapsed": true
   },
   "outputs": [],
   "source": []
  },
  {
   "cell_type": "code",
   "execution_count": null,
   "metadata": {
    "collapsed": true
   },
   "outputs": [],
   "source": []
  }
 ],
 "metadata": {
  "kernelspec": {
   "display_name": "Python 3",
   "language": "python",
   "name": "python3"
  },
  "language_info": {
   "codemirror_mode": {
    "name": "ipython",
    "version": 3
   },
   "file_extension": ".py",
   "mimetype": "text/x-python",
   "name": "python",
   "nbconvert_exporter": "python",
   "pygments_lexer": "ipython3",
   "version": "3.6.3"
  }
 },
 "nbformat": 4,
 "nbformat_minor": 2
}
